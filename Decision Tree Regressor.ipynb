{
 "cells": [
  {
   "cell_type": "code",
   "execution_count": 1,
   "id": "6acc330f",
   "metadata": {},
   "outputs": [
    {
     "name": "stderr",
     "output_type": "stream",
     "text": [
      "C:\\Users\\yasha\\Anaconda3\\lib\\site-packages\\pandas\\compat\\_optional.py:138: UserWarning: Pandas requires version '2.7.0' or newer of 'numexpr' (version '2.6.9' currently installed).\n",
      "  warnings.warn(msg, UserWarning)\n"
     ]
    }
   ],
   "source": [
    "#importing the requried labraries\n",
    "\n",
    "import pandas as pd\n",
    "import numpy as np\n",
    "import matplotlib.pyplot as plt\n",
    "import seaborn as sns"
   ]
  },
  {
   "cell_type": "code",
   "execution_count": 2,
   "id": "5c6b7b45",
   "metadata": {},
   "outputs": [
    {
     "name": "stderr",
     "output_type": "stream",
     "text": [
      "C:\\Users\\yasha\\Anaconda3\\lib\\site-packages\\IPython\\core\\interactiveshell.py:3296: DtypeWarning: Columns (2,3,4,5,6,7) have mixed types.Specify dtype option on import or set low_memory=False.\n",
      "  exec(code_obj, self.user_global_ns, self.user_ns)\n"
     ]
    }
   ],
   "source": [
    "##importing the data\n",
    "\n",
    "data = pd.read_csv('household_power_consumption.csv', sep=';')"
   ]
  },
  {
   "cell_type": "code",
   "execution_count": 3,
   "id": "b29e4fcc",
   "metadata": {},
   "outputs": [
    {
     "data": {
      "text/html": [
       "<div>\n",
       "<style scoped>\n",
       "    .dataframe tbody tr th:only-of-type {\n",
       "        vertical-align: middle;\n",
       "    }\n",
       "\n",
       "    .dataframe tbody tr th {\n",
       "        vertical-align: top;\n",
       "    }\n",
       "\n",
       "    .dataframe thead th {\n",
       "        text-align: right;\n",
       "    }\n",
       "</style>\n",
       "<table border=\"1\" class=\"dataframe\">\n",
       "  <thead>\n",
       "    <tr style=\"text-align: right;\">\n",
       "      <th></th>\n",
       "      <th>Date</th>\n",
       "      <th>Time</th>\n",
       "      <th>Global_active_power</th>\n",
       "      <th>Global_reactive_power</th>\n",
       "      <th>Voltage</th>\n",
       "      <th>Global_intensity</th>\n",
       "      <th>Sub_metering_1</th>\n",
       "      <th>Sub_metering_2</th>\n",
       "      <th>Sub_metering_3</th>\n",
       "    </tr>\n",
       "  </thead>\n",
       "  <tbody>\n",
       "    <tr>\n",
       "      <th>0</th>\n",
       "      <td>16/12/2006</td>\n",
       "      <td>17:24:00</td>\n",
       "      <td>4.216</td>\n",
       "      <td>0.418</td>\n",
       "      <td>234.840</td>\n",
       "      <td>18.400</td>\n",
       "      <td>0.000</td>\n",
       "      <td>1.000</td>\n",
       "      <td>17.0</td>\n",
       "    </tr>\n",
       "    <tr>\n",
       "      <th>1</th>\n",
       "      <td>16/12/2006</td>\n",
       "      <td>17:25:00</td>\n",
       "      <td>5.360</td>\n",
       "      <td>0.436</td>\n",
       "      <td>233.630</td>\n",
       "      <td>23.000</td>\n",
       "      <td>0.000</td>\n",
       "      <td>1.000</td>\n",
       "      <td>16.0</td>\n",
       "    </tr>\n",
       "    <tr>\n",
       "      <th>2</th>\n",
       "      <td>16/12/2006</td>\n",
       "      <td>17:26:00</td>\n",
       "      <td>5.374</td>\n",
       "      <td>0.498</td>\n",
       "      <td>233.290</td>\n",
       "      <td>23.000</td>\n",
       "      <td>0.000</td>\n",
       "      <td>2.000</td>\n",
       "      <td>17.0</td>\n",
       "    </tr>\n",
       "    <tr>\n",
       "      <th>3</th>\n",
       "      <td>16/12/2006</td>\n",
       "      <td>17:27:00</td>\n",
       "      <td>5.388</td>\n",
       "      <td>0.502</td>\n",
       "      <td>233.740</td>\n",
       "      <td>23.000</td>\n",
       "      <td>0.000</td>\n",
       "      <td>1.000</td>\n",
       "      <td>17.0</td>\n",
       "    </tr>\n",
       "    <tr>\n",
       "      <th>4</th>\n",
       "      <td>16/12/2006</td>\n",
       "      <td>17:28:00</td>\n",
       "      <td>3.666</td>\n",
       "      <td>0.528</td>\n",
       "      <td>235.680</td>\n",
       "      <td>15.800</td>\n",
       "      <td>0.000</td>\n",
       "      <td>1.000</td>\n",
       "      <td>17.0</td>\n",
       "    </tr>\n",
       "    <tr>\n",
       "      <th>...</th>\n",
       "      <td>...</td>\n",
       "      <td>...</td>\n",
       "      <td>...</td>\n",
       "      <td>...</td>\n",
       "      <td>...</td>\n",
       "      <td>...</td>\n",
       "      <td>...</td>\n",
       "      <td>...</td>\n",
       "      <td>...</td>\n",
       "    </tr>\n",
       "    <tr>\n",
       "      <th>2075254</th>\n",
       "      <td>26/11/2010</td>\n",
       "      <td>20:58:00</td>\n",
       "      <td>0.946</td>\n",
       "      <td>0.0</td>\n",
       "      <td>240.43</td>\n",
       "      <td>4.0</td>\n",
       "      <td>0.0</td>\n",
       "      <td>0.0</td>\n",
       "      <td>0.0</td>\n",
       "    </tr>\n",
       "    <tr>\n",
       "      <th>2075255</th>\n",
       "      <td>26/11/2010</td>\n",
       "      <td>20:59:00</td>\n",
       "      <td>0.944</td>\n",
       "      <td>0.0</td>\n",
       "      <td>240.0</td>\n",
       "      <td>4.0</td>\n",
       "      <td>0.0</td>\n",
       "      <td>0.0</td>\n",
       "      <td>0.0</td>\n",
       "    </tr>\n",
       "    <tr>\n",
       "      <th>2075256</th>\n",
       "      <td>26/11/2010</td>\n",
       "      <td>21:00:00</td>\n",
       "      <td>0.938</td>\n",
       "      <td>0.0</td>\n",
       "      <td>239.82</td>\n",
       "      <td>3.8</td>\n",
       "      <td>0.0</td>\n",
       "      <td>0.0</td>\n",
       "      <td>0.0</td>\n",
       "    </tr>\n",
       "    <tr>\n",
       "      <th>2075257</th>\n",
       "      <td>26/11/2010</td>\n",
       "      <td>21:01:00</td>\n",
       "      <td>0.934</td>\n",
       "      <td>0.0</td>\n",
       "      <td>239.7</td>\n",
       "      <td>3.8</td>\n",
       "      <td>0.0</td>\n",
       "      <td>0.0</td>\n",
       "      <td>0.0</td>\n",
       "    </tr>\n",
       "    <tr>\n",
       "      <th>2075258</th>\n",
       "      <td>26/11/2010</td>\n",
       "      <td>21:02:00</td>\n",
       "      <td>0.932</td>\n",
       "      <td>0.0</td>\n",
       "      <td>239.55</td>\n",
       "      <td>3.8</td>\n",
       "      <td>0.0</td>\n",
       "      <td>0.0</td>\n",
       "      <td>0.0</td>\n",
       "    </tr>\n",
       "  </tbody>\n",
       "</table>\n",
       "<p>2075259 rows × 9 columns</p>\n",
       "</div>"
      ],
      "text/plain": [
       "               Date      Time Global_active_power Global_reactive_power  \\\n",
       "0        16/12/2006  17:24:00               4.216                 0.418   \n",
       "1        16/12/2006  17:25:00               5.360                 0.436   \n",
       "2        16/12/2006  17:26:00               5.374                 0.498   \n",
       "3        16/12/2006  17:27:00               5.388                 0.502   \n",
       "4        16/12/2006  17:28:00               3.666                 0.528   \n",
       "...             ...       ...                 ...                   ...   \n",
       "2075254  26/11/2010  20:58:00               0.946                   0.0   \n",
       "2075255  26/11/2010  20:59:00               0.944                   0.0   \n",
       "2075256  26/11/2010  21:00:00               0.938                   0.0   \n",
       "2075257  26/11/2010  21:01:00               0.934                   0.0   \n",
       "2075258  26/11/2010  21:02:00               0.932                   0.0   \n",
       "\n",
       "         Voltage Global_intensity Sub_metering_1 Sub_metering_2  \\\n",
       "0        234.840           18.400          0.000          1.000   \n",
       "1        233.630           23.000          0.000          1.000   \n",
       "2        233.290           23.000          0.000          2.000   \n",
       "3        233.740           23.000          0.000          1.000   \n",
       "4        235.680           15.800          0.000          1.000   \n",
       "...          ...              ...            ...            ...   \n",
       "2075254   240.43              4.0            0.0            0.0   \n",
       "2075255    240.0              4.0            0.0            0.0   \n",
       "2075256   239.82              3.8            0.0            0.0   \n",
       "2075257    239.7              3.8            0.0            0.0   \n",
       "2075258   239.55              3.8            0.0            0.0   \n",
       "\n",
       "         Sub_metering_3  \n",
       "0                  17.0  \n",
       "1                  16.0  \n",
       "2                  17.0  \n",
       "3                  17.0  \n",
       "4                  17.0  \n",
       "...                 ...  \n",
       "2075254             0.0  \n",
       "2075255             0.0  \n",
       "2075256             0.0  \n",
       "2075257             0.0  \n",
       "2075258             0.0  \n",
       "\n",
       "[2075259 rows x 9 columns]"
      ]
     },
     "execution_count": 3,
     "metadata": {},
     "output_type": "execute_result"
    }
   ],
   "source": [
    "data"
   ]
  },
  {
   "cell_type": "code",
   "execution_count": 4,
   "id": "dfcec15b",
   "metadata": {},
   "outputs": [],
   "source": [
    "# here we are taking only 50000 data from large dataset\n",
    "\n",
    "df = data.sample(50000)"
   ]
  },
  {
   "cell_type": "code",
   "execution_count": 5,
   "id": "0a0f9abc",
   "metadata": {},
   "outputs": [
    {
     "name": "stdout",
     "output_type": "stream",
     "text": [
      "<class 'pandas.core.frame.DataFrame'>\n",
      "Int64Index: 50000 entries, 2047321 to 1961892\n",
      "Data columns (total 9 columns):\n",
      " #   Column                 Non-Null Count  Dtype  \n",
      "---  ------                 --------------  -----  \n",
      " 0   Date                   50000 non-null  object \n",
      " 1   Time                   50000 non-null  object \n",
      " 2   Global_active_power    50000 non-null  object \n",
      " 3   Global_reactive_power  50000 non-null  object \n",
      " 4   Voltage                50000 non-null  object \n",
      " 5   Global_intensity       50000 non-null  object \n",
      " 6   Sub_metering_1         50000 non-null  object \n",
      " 7   Sub_metering_2         50000 non-null  object \n",
      " 8   Sub_metering_3         49372 non-null  float64\n",
      "dtypes: float64(1), object(8)\n",
      "memory usage: 3.8+ MB\n"
     ]
    }
   ],
   "source": [
    "df.info()"
   ]
  },
  {
   "cell_type": "code",
   "execution_count": 6,
   "id": "498bd7b6",
   "metadata": {},
   "outputs": [
    {
     "data": {
      "text/html": [
       "<div>\n",
       "<style scoped>\n",
       "    .dataframe tbody tr th:only-of-type {\n",
       "        vertical-align: middle;\n",
       "    }\n",
       "\n",
       "    .dataframe tbody tr th {\n",
       "        vertical-align: top;\n",
       "    }\n",
       "\n",
       "    .dataframe thead th {\n",
       "        text-align: right;\n",
       "    }\n",
       "</style>\n",
       "<table border=\"1\" class=\"dataframe\">\n",
       "  <thead>\n",
       "    <tr style=\"text-align: right;\">\n",
       "      <th></th>\n",
       "      <th>Date</th>\n",
       "      <th>Time</th>\n",
       "      <th>Global_active_power</th>\n",
       "      <th>Global_reactive_power</th>\n",
       "      <th>Voltage</th>\n",
       "      <th>Global_intensity</th>\n",
       "      <th>Sub_metering_1</th>\n",
       "      <th>Sub_metering_2</th>\n",
       "      <th>Sub_metering_3</th>\n",
       "    </tr>\n",
       "  </thead>\n",
       "  <tbody>\n",
       "    <tr>\n",
       "      <th>2047321</th>\n",
       "      <td>7/11/2010</td>\n",
       "      <td>11:25:00</td>\n",
       "      <td>2.166</td>\n",
       "      <td>0.144</td>\n",
       "      <td>232.6</td>\n",
       "      <td>9.2</td>\n",
       "      <td>0.0</td>\n",
       "      <td>0.0</td>\n",
       "      <td>18.0</td>\n",
       "    </tr>\n",
       "    <tr>\n",
       "      <th>553398</th>\n",
       "      <td>5/1/2008</td>\n",
       "      <td>00:42:00</td>\n",
       "      <td>0.364</td>\n",
       "      <td>0.102</td>\n",
       "      <td>243.200</td>\n",
       "      <td>1.600</td>\n",
       "      <td>0.000</td>\n",
       "      <td>1.000</td>\n",
       "      <td>0.0</td>\n",
       "    </tr>\n",
       "    <tr>\n",
       "      <th>697105</th>\n",
       "      <td>13/4/2008</td>\n",
       "      <td>19:49:00</td>\n",
       "      <td>2.070</td>\n",
       "      <td>0.136</td>\n",
       "      <td>238.090</td>\n",
       "      <td>8.800</td>\n",
       "      <td>0.000</td>\n",
       "      <td>19.000</td>\n",
       "      <td>1.0</td>\n",
       "    </tr>\n",
       "    <tr>\n",
       "      <th>1201002</th>\n",
       "      <td>29/3/2009</td>\n",
       "      <td>18:06:00</td>\n",
       "      <td>1.560</td>\n",
       "      <td>0.080</td>\n",
       "      <td>237.300</td>\n",
       "      <td>6.600</td>\n",
       "      <td>0.000</td>\n",
       "      <td>1.000</td>\n",
       "      <td>17.0</td>\n",
       "    </tr>\n",
       "    <tr>\n",
       "      <th>1904189</th>\n",
       "      <td>31/7/2010</td>\n",
       "      <td>01:53:00</td>\n",
       "      <td>0.322</td>\n",
       "      <td>0.210</td>\n",
       "      <td>238.150</td>\n",
       "      <td>1.600</td>\n",
       "      <td>0.000</td>\n",
       "      <td>0.000</td>\n",
       "      <td>1.0</td>\n",
       "    </tr>\n",
       "  </tbody>\n",
       "</table>\n",
       "</div>"
      ],
      "text/plain": [
       "              Date      Time Global_active_power Global_reactive_power  \\\n",
       "2047321  7/11/2010  11:25:00               2.166                 0.144   \n",
       "553398    5/1/2008  00:42:00               0.364                 0.102   \n",
       "697105   13/4/2008  19:49:00               2.070                 0.136   \n",
       "1201002  29/3/2009  18:06:00               1.560                 0.080   \n",
       "1904189  31/7/2010  01:53:00               0.322                 0.210   \n",
       "\n",
       "         Voltage Global_intensity Sub_metering_1 Sub_metering_2  \\\n",
       "2047321    232.6              9.2            0.0            0.0   \n",
       "553398   243.200            1.600          0.000          1.000   \n",
       "697105   238.090            8.800          0.000         19.000   \n",
       "1201002  237.300            6.600          0.000          1.000   \n",
       "1904189  238.150            1.600          0.000          0.000   \n",
       "\n",
       "         Sub_metering_3  \n",
       "2047321            18.0  \n",
       "553398              0.0  \n",
       "697105              1.0  \n",
       "1201002            17.0  \n",
       "1904189             1.0  "
      ]
     },
     "execution_count": 6,
     "metadata": {},
     "output_type": "execute_result"
    }
   ],
   "source": [
    "df.head()"
   ]
  },
  {
   "cell_type": "code",
   "execution_count": 7,
   "id": "75bfe679",
   "metadata": {},
   "outputs": [],
   "source": [
    "df.drop(columns=['Date','Time'], axis=1, inplace=True)"
   ]
  },
  {
   "cell_type": "code",
   "execution_count": 8,
   "id": "cbf8769b",
   "metadata": {},
   "outputs": [
    {
     "data": {
      "text/plain": [
       "Global_active_power        0\n",
       "Global_reactive_power      0\n",
       "Voltage                    0\n",
       "Global_intensity           0\n",
       "Sub_metering_1             0\n",
       "Sub_metering_2             0\n",
       "Sub_metering_3           628\n",
       "dtype: int64"
      ]
     },
     "execution_count": 8,
     "metadata": {},
     "output_type": "execute_result"
    }
   ],
   "source": [
    "df.isnull().sum()"
   ]
  },
  {
   "cell_type": "code",
   "execution_count": 9,
   "id": "28df21e3",
   "metadata": {},
   "outputs": [
    {
     "data": {
      "text/plain": [
       "array([2.166, '0.364', '2.070', ..., '4.392', '4.174', 2.238],\n",
       "      dtype=object)"
      ]
     },
     "execution_count": 9,
     "metadata": {},
     "output_type": "execute_result"
    }
   ],
   "source": [
    "df['Global_active_power'].unique()"
   ]
  },
  {
   "cell_type": "code",
   "execution_count": 10,
   "id": "d39d21df",
   "metadata": {},
   "outputs": [
    {
     "data": {
      "text/plain": [
       "array([0.144, '0.102', '0.136', '0.080', '0.210', '0.092', '0.094',\n",
       "       '0.188', '0.316', 0.058, '0.470', '0.140', '0.182', '0.144',\n",
       "       '0.000', '0.224', '0.416', '0.320', '0.078', '0.180', '0.116',\n",
       "       '0.104', '0.132', '0.214', '0.206', '0.108', '0.184', '0.240',\n",
       "       '0.114', '0.062', '0.326', '0.058', '0.158', '0.072', '0.100',\n",
       "       '0.176', 0.21, '0.076', 0.106, '0.166', '0.088', '0.056', 0.166,\n",
       "       '0.068', '0.090', '0.522', '0.164', '0.066', '0.054', 0.524,\n",
       "       '0.262', '0.390', '0.050', '0.218', '0.198', '0.146', '0.128', 0.1,\n",
       "       '0.204', '0.202', '0.110', '0.086', '?', '0.120', '0.306', '0.226',\n",
       "       '0.288', '0.382', '0.126', '0.096', '0.516', '0.162', '0.112', 0.0,\n",
       "       '0.252', '0.194', '0.156', '0.122', '0.160', '0.264', '0.174',\n",
       "       '0.168', '0.134', '0.070', '0.098', '0.082', '0.338', '0.260',\n",
       "       '0.200', 0.236, '0.308', '0.220', '0.266', '0.362', '0.254',\n",
       "       '0.118', '0.142', '0.084', '0.208', '0.474', '0.192', '0.256',\n",
       "       '0.366', '0.324', '0.216', '0.276', '0.234', '0.052', '0.292',\n",
       "       '0.106', '0.872', 0.178, '0.248', '0.124', '0.246', '0.310',\n",
       "       '0.064', '0.046', 0.078, '0.272', '0.138', '0.486', '0.258',\n",
       "       '0.336', '0.242', '0.060', '0.342', '0.328', '0.048', '0.440',\n",
       "       '0.172', 0.048, '0.360', '0.304', '0.236', '0.238', 0.186, '0.074',\n",
       "       '0.148', '0.178', '0.250', '0.488', '0.130', '0.294', '0.286',\n",
       "       '0.222', '0.150', '0.212', '0.152', '0.278', '0.346', '0.512',\n",
       "       '0.196', '0.190', '0.716', '0.494', '0.232', '0.282', '0.298',\n",
       "       0.056, '0.472', '0.340', '0.290', '0.312', 0.096, '0.334', '0.498',\n",
       "       0.062, '0.230', 0.172, '0.370', '0.296', '0.170', '0.318', '0.386',\n",
       "       '0.228', '0.344', '0.186', '0.332', '0.464', '0.356', '0.378',\n",
       "       '0.422', 0.226, '0.350', 0.07, 0.068, 0.19, 0.142, '0.414',\n",
       "       '0.280', 0.168, '0.300', '0.418', '0.268', '0.444', '0.384',\n",
       "       '0.404', '0.558', '0.348', '0.372', '0.270', '0.154', '0.412',\n",
       "       0.102, 0.152, '0.302', 0.23, '0.284', '0.330', '0.368', '0.380',\n",
       "       '0.438', '0.458', 0.268, 0.06, '0.364', '0.424', 0.198, 0.248,\n",
       "       '0.274', '0.452', 0.208, 0.164, '0.244', '0.460', '0.322', '0.468',\n",
       "       '0.436', 0.082, '0.542', 0.278, '0.354', '0.410', '0.538', '0.352',\n",
       "       '0.314', '0.374', '0.446', '0.400', 0.072, '0.358', '0.504', 0.126,\n",
       "       0.11, '0.434', '0.388', '0.394', '0.376', '0.570', 0.328, '0.420',\n",
       "       '0.406', 0.066, '0.602', '0.442', 0.05, 0.084, '0.596', 0.086,\n",
       "       0.128, 0.14, 0.046, '0.500', '0.598', 0.088, 0.12, '0.454',\n",
       "       '0.402', '0.640', 0.228, 0.368, '0.530', 0.358, '0.746', '0.588',\n",
       "       '0.448', '0.396', 0.492, '0.644', '0.680', 0.094, '0.398', 0.132,\n",
       "       0.184, 0.234, '0.674', 0.272, 0.532, 0.118, 0.174, 0.052, 0.194,\n",
       "       0.13, '0.482', '0.450', '0.518', '0.432', '0.466', 0.188, 0.108,\n",
       "       0.262, '0.578', 0.252, '0.492', '0.502', 0.074, '0.456', '0.722',\n",
       "       '0.392', 0.212, 0.122, '0.480', 0.076, '0.536', 0.054, '0.672',\n",
       "       '0.682', '0.490', '0.612', '0.548', '0.528', 0.308, '0.686', 0.156,\n",
       "       '0.566', '0.760', '0.550', '0.476', '0.606', 0.292, '0.646', 0.158,\n",
       "       0.162, '0.428', 0.064, '0.508', '0.526', 0.08, '0.478', '0.520',\n",
       "       0.466, 0.114, 0.216, 0.24, 0.202, '0.560', '0.540', 0.36, '0.532',\n",
       "       0.15, '1.008', '1.032', 0.134, 0.346, '0.572', '0.670', '0.556',\n",
       "       '0.620', 0.218, '0.426', 0.09, '0.666', 0.25, 0.204, 0.288,\n",
       "       '0.552', 0.124, 0.224, 0.2, 0.424, '0.624', 0.354, '0.484', 0.396,\n",
       "       '0.430', '0.590', 0.29, 0.232, 0.192, 0.148, '0.608', '0.408',\n",
       "       0.274, 0.18, 0.214, 0.098, 0.154, 0.258, '0.534', '0.514', '0.562',\n",
       "       0.324, '0.506', '0.582', '0.780', '0.462', 0.092, '0.564', 0.116,\n",
       "       '0.852', '0.554', 0.238, 0.33, '0.652', '0.584', '0.546', 0.246,\n",
       "       '0.544', 0.296, '0.604', 0.196, '0.656', 0.136, '0.632', '0.626',\n",
       "       '0.696', 0.476, '0.592', 0.146, 0.486, '0.770', 0.306, 0.546,\n",
       "       0.182, 0.176, '0.798', '0.692', '0.724', '0.568', 0.454, '0.510',\n",
       "       '0.734', '0.610', '0.658', '0.524', 0.52, 0.518, '0.842', '0.676',\n",
       "       0.352, 0.386, '0.574', 0.264, 0.46, 0.31, '0.772', 0.254, '0.586',\n",
       "       '0.736', 0.244, 0.22, '0.708', 0.342, 0.332, 0.266, 0.222, '0.766',\n",
       "       0.206, '0.684', 0.112, 0.17, '0.796', 0.138, '0.712', '0.614',\n",
       "       0.32, '0.580', 0.256, 0.304, '1.078', 0.276, 0.27, '0.622',\n",
       "       '0.756', 0.16, '0.496', 0.392, 0.104, 0.362, 0.286, 0.37, '0.784',\n",
       "       '0.856', '0.710', '0.980', 0.372, 0.35, 0.284, 0.242, 0.302,\n",
       "       '0.702', '0.834', '0.908', '0.594', '0.650', '0.678', '0.802',\n",
       "       '0.706', 0.77, '0.654', '0.688', 0.408, 0.334, 0.482, 0.364, 0.316,\n",
       "       '0.648', '0.720', '1.002', '0.820', '0.698', 0.494, '0.740',\n",
       "       '0.628'], dtype=object)"
      ]
     },
     "execution_count": 10,
     "metadata": {},
     "output_type": "execute_result"
    }
   ],
   "source": [
    "df['Global_reactive_power'].unique()"
   ]
  },
  {
   "cell_type": "code",
   "execution_count": 11,
   "id": "ee4954b8",
   "metadata": {},
   "outputs": [
    {
     "data": {
      "text/plain": [
       "array([9.2, '1.600', '8.800', '6.600', '1.200', '16.600', '6.000',\n",
       "       '18.600', 3.8, '5.800', '5.200', '12.000', '8.600', '7.000',\n",
       "       '10.400', '2.400', '11.000', '5.400', '1.400', '7.400', '4.000',\n",
       "       '18.200', '5.600', '15.200', '2.200', '14.400', 1.8, '20.400',\n",
       "       12.8, '3.200', '0.600', '8.000', '0.800', '11.600', '13.200',\n",
       "       '9.000', '1.000', '5.000', '0.400', '9.400', 8.6, '2.000',\n",
       "       '13.400', '9.800', 1.4, '?', '8.400', '11.200', '2.800', '4.200',\n",
       "       '7.200', '4.400', 1.0, '7.800', '3.800', '6.200', '15.400',\n",
       "       '0.200', '3.400', '3.600', '4.800', '6.400', '7.600', 3.4, '8.200',\n",
       "       '4.600', '2.600', '9.600', '15.000', '9.200', '1.800', '12.800',\n",
       "       '15.600', '10.800', '20.000', '11.400', '10.600', '21.800',\n",
       "       '31.800', '3.000', '14.800', '10.000', '19.800', '19.000', 8.4,\n",
       "       '16.000', '12.600', 6.6, '6.800', '19.400', '13.000', '15.800',\n",
       "       '10.200', '12.400', '32.000', '22.600', '18.000', '13.800',\n",
       "       '17.000', '13.600', '12.200', '26.200', '16.400', 2.2, 4.0, 2.4,\n",
       "       '14.200', 11.6, '21.400', 1.2, '23.800', 5.6, '17.400', '25.000',\n",
       "       '17.600', 10.2, '11.800', 5.2, 3.6, 1.6, '21.200', '18.400', 8.2,\n",
       "       '14.600', 7.2, '16.800', '22.400', '23.600', 6.2, 6.0, '16.200',\n",
       "       6.8, 2.0, 8.8, 7.6, '19.200', '14.000', 15.6, '17.200', 6.4,\n",
       "       '17.800', '22.000', '26.800', '25.600', 8.0, '21.600', '24.600',\n",
       "       '20.800', 16.0, '24.000', '22.800', '22.200', '30.800', 7.0,\n",
       "       '20.200', 5.4, 16.2, 10.0, 11.8, 5.8, '25.400', 4.6, 12.2, 13.4,\n",
       "       12.0, 7.8, 11.4, 4.2, '26.000', 9.8, '21.000', 2.8, 9.0, 4.8, 3.2,\n",
       "       '19.600', '20.600', '33.200', 7.4, 11.0, '27.000', '31.400',\n",
       "       '29.000', 9.6, '33.400', '34.200', '18.800', '28.000', '39.800',\n",
       "       '27.400', '23.200', '24.200', 9.4, 17.0, '34.600', 5.0, '25.200',\n",
       "       '30.200', '27.600', '28.200', 28.2, 12.6, 23.4, '23.400', 10.8,\n",
       "       '28.600', '29.400', '33.600', 2.6, '27.200', 14.6, '25.800',\n",
       "       '34.400', '26.600', '26.400', 18.4, 15.4, '32.400', '27.800', 22.6,\n",
       "       3.0, '33.800', 14.0, 14.8, 16.6, '29.800', 13.0, 27.8, '24.800',\n",
       "       16.8, '28.800', '30.400', '31.200', '23.000', 4.4, '30.600', 15.0,\n",
       "       10.6, '33.000', 15.2, 30.6, 21.0, '24.400', 26.0, 10.4, 12.4, 13.2,\n",
       "       '36.000', '32.800', '28.400', '40.400', '39.400', '29.200',\n",
       "       '38.800', 17.8, '31.000', 19.2, 19.0, '31.600', '30.000', 11.2,\n",
       "       20.6, 13.8, '32.600'], dtype=object)"
      ]
     },
     "execution_count": 11,
     "metadata": {},
     "output_type": "execute_result"
    }
   ],
   "source": [
    "df['Global_intensity'].unique()"
   ]
  },
  {
   "cell_type": "code",
   "execution_count": 12,
   "id": "a0f24415",
   "metadata": {},
   "outputs": [
    {
     "data": {
      "text/plain": [
       "array([232.6, '243.200', '238.090', ..., 242.47, 235.7, 244.64],\n",
       "      dtype=object)"
      ]
     },
     "execution_count": 12,
     "metadata": {},
     "output_type": "execute_result"
    }
   ],
   "source": [
    "df['Voltage'].unique()"
   ]
  },
  {
   "cell_type": "code",
   "execution_count": 13,
   "id": "c4acafea",
   "metadata": {},
   "outputs": [
    {
     "data": {
      "text/plain": [
       "array([0.0, '0.000', '38.000', '2.000', '8.000', '46.000', '1.000',\n",
       "       '32.000', '37.000', '?', '36.000', '12.000', '29.000', '44.000',\n",
       "       '6.000', '4.000', '28.000', '39.000', '26.000', '11.000', '3.000',\n",
       "       '34.000', '5.000', '31.000', '30.000', 1.0, '27.000', 2.0,\n",
       "       '24.000', '35.000', '10.000', '7.000', 17.0, '9.000', '23.000',\n",
       "       '14.000', 7.0, '16.000', '21.000', '45.000', '40.000', '33.000',\n",
       "       '56.000', '72.000', '17.000', '15.000', '13.000', '25.000',\n",
       "       '71.000', '22.000', '20.000', 80.0, '55.000', '74.000', '18.000',\n",
       "       '50.000', '76.000', 36.0, '51.000', '19.000', '43.000', 14.0,\n",
       "       '75.000', 37.0, 79.0, '49.000', 8.0, '42.000', '53.000', 30.0,\n",
       "       57.0, 15.0, '41.000', '64.000', 6.0, '73.000', 45.0, 33.0, 38.0,\n",
       "       39.0, 21.0, 31.0, 32.0, '62.000'], dtype=object)"
      ]
     },
     "execution_count": 13,
     "metadata": {},
     "output_type": "execute_result"
    }
   ],
   "source": [
    "df['Sub_metering_1'].unique()"
   ]
  },
  {
   "cell_type": "code",
   "execution_count": 14,
   "id": "c905b1e0",
   "metadata": {},
   "outputs": [
    {
     "data": {
      "text/plain": [
       "array([0.0, '1.000', '19.000', '0.000', '28.000', '2.000', '35.000',\n",
       "       '29.000', '37.000', 1.0, '16.000', '40.000', '?', '27.000',\n",
       "       '20.000', '39.000', '3.000', '36.000', '76.000', '8.000', '71.000',\n",
       "       '18.000', '60.000', '38.000', '17.000', '5.000', '26.000', 23.0,\n",
       "       '11.000', '64.000', 2.0, '25.000', '10.000', '14.000', '32.000',\n",
       "       '4.000', '24.000', '15.000', '34.000', '74.000', 38.0, '30.000',\n",
       "       '70.000', '31.000', '72.000', '33.000', '6.000', 37.0, '23.000',\n",
       "       '69.000', 24.0, '9.000', '22.000', '21.000', '13.000', '67.000',\n",
       "       '65.000', '63.000', '56.000', '68.000', '43.000', '73.000', 4.0,\n",
       "       '48.000', 26.0, 64.0, 22.0, '7.000', '79.000', '54.000', 21.0,\n",
       "       '75.000', 31.0, '12.000', 39.0, '62.000', 66.0, '78.000', 10.0,\n",
       "       '52.000', '49.000', 40.0, '59.000', '51.000', '50.000', '41.000',\n",
       "       3.0, 5.0, '58.000'], dtype=object)"
      ]
     },
     "execution_count": 14,
     "metadata": {},
     "output_type": "execute_result"
    }
   ],
   "source": [
    "df['Sub_metering_2'].unique()"
   ]
  },
  {
   "cell_type": "code",
   "execution_count": 15,
   "id": "329e307c",
   "metadata": {},
   "outputs": [
    {
     "data": {
      "text/plain": [
       "array([18.,  0.,  1., 17., 19., 13., 12., 11., 16., nan, 29., 23., 31.,\n",
       "       10.,  9.,  2.,  5., 30.,  8., 27.,  4., 14.,  3., 20.,  7., 22.,\n",
       "        6., 28., 21., 25., 15., 26., 24.])"
      ]
     },
     "execution_count": 15,
     "metadata": {},
     "output_type": "execute_result"
    }
   ],
   "source": [
    "df['Sub_metering_3'].unique()"
   ]
  },
  {
   "cell_type": "code",
   "execution_count": 16,
   "id": "9d9eac81",
   "metadata": {},
   "outputs": [
    {
     "data": {
      "text/html": [
       "<div>\n",
       "<style scoped>\n",
       "    .dataframe tbody tr th:only-of-type {\n",
       "        vertical-align: middle;\n",
       "    }\n",
       "\n",
       "    .dataframe tbody tr th {\n",
       "        vertical-align: top;\n",
       "    }\n",
       "\n",
       "    .dataframe thead th {\n",
       "        text-align: right;\n",
       "    }\n",
       "</style>\n",
       "<table border=\"1\" class=\"dataframe\">\n",
       "  <thead>\n",
       "    <tr style=\"text-align: right;\">\n",
       "      <th></th>\n",
       "      <th>Global_active_power</th>\n",
       "      <th>Global_reactive_power</th>\n",
       "      <th>Voltage</th>\n",
       "      <th>Global_intensity</th>\n",
       "      <th>Sub_metering_1</th>\n",
       "      <th>Sub_metering_2</th>\n",
       "      <th>Sub_metering_3</th>\n",
       "    </tr>\n",
       "  </thead>\n",
       "  <tbody>\n",
       "    <tr>\n",
       "      <th>1988946</th>\n",
       "      <td>?</td>\n",
       "      <td>?</td>\n",
       "      <td>?</td>\n",
       "      <td>?</td>\n",
       "      <td>?</td>\n",
       "      <td>?</td>\n",
       "      <td>NaN</td>\n",
       "    </tr>\n",
       "    <tr>\n",
       "      <th>1714603</th>\n",
       "      <td>?</td>\n",
       "      <td>?</td>\n",
       "      <td>?</td>\n",
       "      <td>?</td>\n",
       "      <td>?</td>\n",
       "      <td>?</td>\n",
       "      <td>NaN</td>\n",
       "    </tr>\n",
       "    <tr>\n",
       "      <th>192042</th>\n",
       "      <td>?</td>\n",
       "      <td>?</td>\n",
       "      <td>?</td>\n",
       "      <td>?</td>\n",
       "      <td>?</td>\n",
       "      <td>?</td>\n",
       "      <td>NaN</td>\n",
       "    </tr>\n",
       "    <tr>\n",
       "      <th>1989807</th>\n",
       "      <td>?</td>\n",
       "      <td>?</td>\n",
       "      <td>?</td>\n",
       "      <td>?</td>\n",
       "      <td>?</td>\n",
       "      <td>?</td>\n",
       "      <td>NaN</td>\n",
       "    </tr>\n",
       "    <tr>\n",
       "      <th>1988138</th>\n",
       "      <td>?</td>\n",
       "      <td>?</td>\n",
       "      <td>?</td>\n",
       "      <td>?</td>\n",
       "      <td>?</td>\n",
       "      <td>?</td>\n",
       "      <td>NaN</td>\n",
       "    </tr>\n",
       "    <tr>\n",
       "      <th>...</th>\n",
       "      <td>...</td>\n",
       "      <td>...</td>\n",
       "      <td>...</td>\n",
       "      <td>...</td>\n",
       "      <td>...</td>\n",
       "      <td>...</td>\n",
       "      <td>...</td>\n",
       "    </tr>\n",
       "    <tr>\n",
       "      <th>1311794</th>\n",
       "      <td>?</td>\n",
       "      <td>?</td>\n",
       "      <td>?</td>\n",
       "      <td>?</td>\n",
       "      <td>?</td>\n",
       "      <td>?</td>\n",
       "      <td>NaN</td>\n",
       "    </tr>\n",
       "    <tr>\n",
       "      <th>1310406</th>\n",
       "      <td>?</td>\n",
       "      <td>?</td>\n",
       "      <td>?</td>\n",
       "      <td>?</td>\n",
       "      <td>?</td>\n",
       "      <td>?</td>\n",
       "      <td>NaN</td>\n",
       "    </tr>\n",
       "    <tr>\n",
       "      <th>1618328</th>\n",
       "      <td>?</td>\n",
       "      <td>?</td>\n",
       "      <td>?</td>\n",
       "      <td>?</td>\n",
       "      <td>?</td>\n",
       "      <td>?</td>\n",
       "      <td>NaN</td>\n",
       "    </tr>\n",
       "    <tr>\n",
       "      <th>1935714</th>\n",
       "      <td>?</td>\n",
       "      <td>?</td>\n",
       "      <td>?</td>\n",
       "      <td>?</td>\n",
       "      <td>?</td>\n",
       "      <td>?</td>\n",
       "      <td>NaN</td>\n",
       "    </tr>\n",
       "    <tr>\n",
       "      <th>1987580</th>\n",
       "      <td>?</td>\n",
       "      <td>?</td>\n",
       "      <td>?</td>\n",
       "      <td>?</td>\n",
       "      <td>?</td>\n",
       "      <td>?</td>\n",
       "      <td>NaN</td>\n",
       "    </tr>\n",
       "  </tbody>\n",
       "</table>\n",
       "<p>628 rows × 7 columns</p>\n",
       "</div>"
      ],
      "text/plain": [
       "        Global_active_power Global_reactive_power Voltage Global_intensity  \\\n",
       "1988946                   ?                     ?       ?                ?   \n",
       "1714603                   ?                     ?       ?                ?   \n",
       "192042                    ?                     ?       ?                ?   \n",
       "1989807                   ?                     ?       ?                ?   \n",
       "1988138                   ?                     ?       ?                ?   \n",
       "...                     ...                   ...     ...              ...   \n",
       "1311794                   ?                     ?       ?                ?   \n",
       "1310406                   ?                     ?       ?                ?   \n",
       "1618328                   ?                     ?       ?                ?   \n",
       "1935714                   ?                     ?       ?                ?   \n",
       "1987580                   ?                     ?       ?                ?   \n",
       "\n",
       "        Sub_metering_1 Sub_metering_2  Sub_metering_3  \n",
       "1988946              ?              ?             NaN  \n",
       "1714603              ?              ?             NaN  \n",
       "192042               ?              ?             NaN  \n",
       "1989807              ?              ?             NaN  \n",
       "1988138              ?              ?             NaN  \n",
       "...                ...            ...             ...  \n",
       "1311794              ?              ?             NaN  \n",
       "1310406              ?              ?             NaN  \n",
       "1618328              ?              ?             NaN  \n",
       "1935714              ?              ?             NaN  \n",
       "1987580              ?              ?             NaN  \n",
       "\n",
       "[628 rows x 7 columns]"
      ]
     },
     "execution_count": 16,
     "metadata": {},
     "output_type": "execute_result"
    }
   ],
   "source": [
    "# check for the unwanted data in data set\n",
    "\n",
    "df.loc[df['Global_active_power'] == '?']"
   ]
  },
  {
   "cell_type": "code",
   "execution_count": 17,
   "id": "911b2b6e",
   "metadata": {},
   "outputs": [],
   "source": [
    "# removing the unwanted data from dataset \n",
    "\n",
    "df.drop(df.loc[df['Global_active_power'] == '?'].index , inplace=True)"
   ]
  },
  {
   "cell_type": "code",
   "execution_count": 18,
   "id": "cb8fbfc6",
   "metadata": {},
   "outputs": [
    {
     "data": {
      "text/html": [
       "<div>\n",
       "<style scoped>\n",
       "    .dataframe tbody tr th:only-of-type {\n",
       "        vertical-align: middle;\n",
       "    }\n",
       "\n",
       "    .dataframe tbody tr th {\n",
       "        vertical-align: top;\n",
       "    }\n",
       "\n",
       "    .dataframe thead th {\n",
       "        text-align: right;\n",
       "    }\n",
       "</style>\n",
       "<table border=\"1\" class=\"dataframe\">\n",
       "  <thead>\n",
       "    <tr style=\"text-align: right;\">\n",
       "      <th></th>\n",
       "      <th>Global_active_power</th>\n",
       "      <th>Global_reactive_power</th>\n",
       "      <th>Voltage</th>\n",
       "      <th>Global_intensity</th>\n",
       "      <th>Sub_metering_1</th>\n",
       "      <th>Sub_metering_2</th>\n",
       "      <th>Sub_metering_3</th>\n",
       "    </tr>\n",
       "  </thead>\n",
       "  <tbody>\n",
       "  </tbody>\n",
       "</table>\n",
       "</div>"
      ],
      "text/plain": [
       "Empty DataFrame\n",
       "Columns: [Global_active_power, Global_reactive_power, Voltage, Global_intensity, Sub_metering_1, Sub_metering_2, Sub_metering_3]\n",
       "Index: []"
      ]
     },
     "execution_count": 18,
     "metadata": {},
     "output_type": "execute_result"
    }
   ],
   "source": [
    "df.loc[df['Global_active_power'] == '?']"
   ]
  },
  {
   "cell_type": "code",
   "execution_count": 19,
   "id": "1a2f1710",
   "metadata": {},
   "outputs": [
    {
     "name": "stdout",
     "output_type": "stream",
     "text": [
      "<class 'pandas.core.frame.DataFrame'>\n",
      "Int64Index: 49372 entries, 2047321 to 1961892\n",
      "Data columns (total 7 columns):\n",
      " #   Column                 Non-Null Count  Dtype  \n",
      "---  ------                 --------------  -----  \n",
      " 0   Global_active_power    49372 non-null  object \n",
      " 1   Global_reactive_power  49372 non-null  object \n",
      " 2   Voltage                49372 non-null  object \n",
      " 3   Global_intensity       49372 non-null  object \n",
      " 4   Sub_metering_1         49372 non-null  object \n",
      " 5   Sub_metering_2         49372 non-null  object \n",
      " 6   Sub_metering_3         49372 non-null  float64\n",
      "dtypes: float64(1), object(6)\n",
      "memory usage: 3.0+ MB\n"
     ]
    }
   ],
   "source": [
    "df.info()"
   ]
  },
  {
   "cell_type": "code",
   "execution_count": 20,
   "id": "447d3e7f",
   "metadata": {},
   "outputs": [],
   "source": [
    "# converting the features to float which are in object datatype\n",
    "\n",
    "df = df.astype({'Global_active_power':float, 'Global_reactive_power':float, 'Voltage':float, 'Global_intensity':float, 'Sub_metering_1':float, 'Sub_metering_2':float})"
   ]
  },
  {
   "cell_type": "code",
   "execution_count": 21,
   "id": "f24f13b6",
   "metadata": {},
   "outputs": [
    {
     "name": "stdout",
     "output_type": "stream",
     "text": [
      "<class 'pandas.core.frame.DataFrame'>\n",
      "Int64Index: 49372 entries, 2047321 to 1961892\n",
      "Data columns (total 7 columns):\n",
      " #   Column                 Non-Null Count  Dtype  \n",
      "---  ------                 --------------  -----  \n",
      " 0   Global_active_power    49372 non-null  float64\n",
      " 1   Global_reactive_power  49372 non-null  float64\n",
      " 2   Voltage                49372 non-null  float64\n",
      " 3   Global_intensity       49372 non-null  float64\n",
      " 4   Sub_metering_1         49372 non-null  float64\n",
      " 5   Sub_metering_2         49372 non-null  float64\n",
      " 6   Sub_metering_3         49372 non-null  float64\n",
      "dtypes: float64(7)\n",
      "memory usage: 3.0 MB\n"
     ]
    }
   ],
   "source": [
    "df.info()"
   ]
  },
  {
   "cell_type": "code",
   "execution_count": 22,
   "id": "834bb817",
   "metadata": {},
   "outputs": [],
   "source": [
    "# adding the 3 features to convert into single features \n",
    "\n",
    "df['Sub_metering'] = df['Sub_metering_1']+df['Sub_metering_2']+df['Sub_metering_3']"
   ]
  },
  {
   "cell_type": "code",
   "execution_count": 23,
   "id": "2aff15d1",
   "metadata": {},
   "outputs": [],
   "source": [
    "# droping the unwanted features\n",
    "\n",
    "df.drop(columns=['Sub_metering_1','Sub_metering_2','Sub_metering_3'], axis=1, inplace=True)"
   ]
  },
  {
   "cell_type": "code",
   "execution_count": 24,
   "id": "292580aa",
   "metadata": {},
   "outputs": [
    {
     "data": {
      "text/plain": [
       "Global_active_power      0\n",
       "Global_reactive_power    0\n",
       "Voltage                  0\n",
       "Global_intensity         0\n",
       "Sub_metering             0\n",
       "dtype: int64"
      ]
     },
     "execution_count": 24,
     "metadata": {},
     "output_type": "execute_result"
    }
   ],
   "source": [
    "#in clean data again checking for any null values\n",
    "\n",
    "df.isnull().sum()"
   ]
  },
  {
   "cell_type": "code",
   "execution_count": 25,
   "id": "2661c928",
   "metadata": {},
   "outputs": [
    {
     "data": {
      "text/html": [
       "<div>\n",
       "<style scoped>\n",
       "    .dataframe tbody tr th:only-of-type {\n",
       "        vertical-align: middle;\n",
       "    }\n",
       "\n",
       "    .dataframe tbody tr th {\n",
       "        vertical-align: top;\n",
       "    }\n",
       "\n",
       "    .dataframe thead th {\n",
       "        text-align: right;\n",
       "    }\n",
       "</style>\n",
       "<table border=\"1\" class=\"dataframe\">\n",
       "  <thead>\n",
       "    <tr style=\"text-align: right;\">\n",
       "      <th></th>\n",
       "      <th>Global_active_power</th>\n",
       "      <th>Global_reactive_power</th>\n",
       "      <th>Voltage</th>\n",
       "      <th>Global_intensity</th>\n",
       "      <th>Sub_metering</th>\n",
       "    </tr>\n",
       "  </thead>\n",
       "  <tbody>\n",
       "    <tr>\n",
       "      <th>2047321</th>\n",
       "      <td>2.166</td>\n",
       "      <td>0.144</td>\n",
       "      <td>232.60</td>\n",
       "      <td>9.2</td>\n",
       "      <td>18.0</td>\n",
       "    </tr>\n",
       "    <tr>\n",
       "      <th>553398</th>\n",
       "      <td>0.364</td>\n",
       "      <td>0.102</td>\n",
       "      <td>243.20</td>\n",
       "      <td>1.6</td>\n",
       "      <td>1.0</td>\n",
       "    </tr>\n",
       "    <tr>\n",
       "      <th>697105</th>\n",
       "      <td>2.070</td>\n",
       "      <td>0.136</td>\n",
       "      <td>238.09</td>\n",
       "      <td>8.8</td>\n",
       "      <td>20.0</td>\n",
       "    </tr>\n",
       "    <tr>\n",
       "      <th>1201002</th>\n",
       "      <td>1.560</td>\n",
       "      <td>0.080</td>\n",
       "      <td>237.30</td>\n",
       "      <td>6.6</td>\n",
       "      <td>18.0</td>\n",
       "    </tr>\n",
       "    <tr>\n",
       "      <th>1904189</th>\n",
       "      <td>0.322</td>\n",
       "      <td>0.210</td>\n",
       "      <td>238.15</td>\n",
       "      <td>1.6</td>\n",
       "      <td>1.0</td>\n",
       "    </tr>\n",
       "    <tr>\n",
       "      <th>...</th>\n",
       "      <td>...</td>\n",
       "      <td>...</td>\n",
       "      <td>...</td>\n",
       "      <td>...</td>\n",
       "      <td>...</td>\n",
       "    </tr>\n",
       "    <tr>\n",
       "      <th>1460539</th>\n",
       "      <td>0.662</td>\n",
       "      <td>0.000</td>\n",
       "      <td>247.05</td>\n",
       "      <td>2.6</td>\n",
       "      <td>1.0</td>\n",
       "    </tr>\n",
       "    <tr>\n",
       "      <th>42228</th>\n",
       "      <td>1.388</td>\n",
       "      <td>0.126</td>\n",
       "      <td>243.45</td>\n",
       "      <td>5.6</td>\n",
       "      <td>19.0</td>\n",
       "    </tr>\n",
       "    <tr>\n",
       "      <th>618492</th>\n",
       "      <td>0.252</td>\n",
       "      <td>0.000</td>\n",
       "      <td>242.31</td>\n",
       "      <td>1.0</td>\n",
       "      <td>0.0</td>\n",
       "    </tr>\n",
       "    <tr>\n",
       "      <th>1005548</th>\n",
       "      <td>0.392</td>\n",
       "      <td>0.092</td>\n",
       "      <td>245.32</td>\n",
       "      <td>1.6</td>\n",
       "      <td>0.0</td>\n",
       "    </tr>\n",
       "    <tr>\n",
       "      <th>1961892</th>\n",
       "      <td>0.158</td>\n",
       "      <td>0.064</td>\n",
       "      <td>241.59</td>\n",
       "      <td>0.8</td>\n",
       "      <td>1.0</td>\n",
       "    </tr>\n",
       "  </tbody>\n",
       "</table>\n",
       "<p>49372 rows × 5 columns</p>\n",
       "</div>"
      ],
      "text/plain": [
       "         Global_active_power  Global_reactive_power  Voltage  \\\n",
       "2047321                2.166                  0.144   232.60   \n",
       "553398                 0.364                  0.102   243.20   \n",
       "697105                 2.070                  0.136   238.09   \n",
       "1201002                1.560                  0.080   237.30   \n",
       "1904189                0.322                  0.210   238.15   \n",
       "...                      ...                    ...      ...   \n",
       "1460539                0.662                  0.000   247.05   \n",
       "42228                  1.388                  0.126   243.45   \n",
       "618492                 0.252                  0.000   242.31   \n",
       "1005548                0.392                  0.092   245.32   \n",
       "1961892                0.158                  0.064   241.59   \n",
       "\n",
       "         Global_intensity  Sub_metering  \n",
       "2047321               9.2          18.0  \n",
       "553398                1.6           1.0  \n",
       "697105                8.8          20.0  \n",
       "1201002               6.6          18.0  \n",
       "1904189               1.6           1.0  \n",
       "...                   ...           ...  \n",
       "1460539               2.6           1.0  \n",
       "42228                 5.6          19.0  \n",
       "618492                1.0           0.0  \n",
       "1005548               1.6           0.0  \n",
       "1961892               0.8           1.0  \n",
       "\n",
       "[49372 rows x 5 columns]"
      ]
     },
     "execution_count": 25,
     "metadata": {},
     "output_type": "execute_result"
    }
   ],
   "source": [
    "df"
   ]
  },
  {
   "cell_type": "code",
   "execution_count": 26,
   "id": "7e9f380d",
   "metadata": {},
   "outputs": [],
   "source": [
    "# spliting  the entire dataset to train and test\n",
    "\n",
    "x = df.drop(columns='Sub_metering',axis = 1)\n",
    "y = df['Sub_metering']"
   ]
  },
  {
   "cell_type": "code",
   "execution_count": 27,
   "id": "0732e4b1",
   "metadata": {},
   "outputs": [],
   "source": [
    "from sklearn.model_selection import train_test_split\n",
    "\n",
    "x_train, x_test, y_train, y_test = train_test_split(x,y, test_size=0.33, random_state= 5)"
   ]
  },
  {
   "cell_type": "code",
   "execution_count": 28,
   "id": "269f71ec",
   "metadata": {},
   "outputs": [
    {
     "data": {
      "text/html": [
       "<div>\n",
       "<style scoped>\n",
       "    .dataframe tbody tr th:only-of-type {\n",
       "        vertical-align: middle;\n",
       "    }\n",
       "\n",
       "    .dataframe tbody tr th {\n",
       "        vertical-align: top;\n",
       "    }\n",
       "\n",
       "    .dataframe thead th {\n",
       "        text-align: right;\n",
       "    }\n",
       "</style>\n",
       "<table border=\"1\" class=\"dataframe\">\n",
       "  <thead>\n",
       "    <tr style=\"text-align: right;\">\n",
       "      <th></th>\n",
       "      <th>Global_active_power</th>\n",
       "      <th>Global_reactive_power</th>\n",
       "      <th>Voltage</th>\n",
       "      <th>Global_intensity</th>\n",
       "    </tr>\n",
       "  </thead>\n",
       "  <tbody>\n",
       "    <tr>\n",
       "      <th>1729036</th>\n",
       "      <td>1.310</td>\n",
       "      <td>0.000</td>\n",
       "      <td>242.09</td>\n",
       "      <td>5.4</td>\n",
       "    </tr>\n",
       "    <tr>\n",
       "      <th>901799</th>\n",
       "      <td>0.540</td>\n",
       "      <td>0.052</td>\n",
       "      <td>244.65</td>\n",
       "      <td>2.2</td>\n",
       "    </tr>\n",
       "    <tr>\n",
       "      <th>94078</th>\n",
       "      <td>2.300</td>\n",
       "      <td>0.000</td>\n",
       "      <td>239.63</td>\n",
       "      <td>9.6</td>\n",
       "    </tr>\n",
       "    <tr>\n",
       "      <th>852519</th>\n",
       "      <td>0.432</td>\n",
       "      <td>0.110</td>\n",
       "      <td>238.69</td>\n",
       "      <td>2.0</td>\n",
       "    </tr>\n",
       "    <tr>\n",
       "      <th>1543028</th>\n",
       "      <td>0.256</td>\n",
       "      <td>0.000</td>\n",
       "      <td>244.46</td>\n",
       "      <td>1.2</td>\n",
       "    </tr>\n",
       "  </tbody>\n",
       "</table>\n",
       "</div>"
      ],
      "text/plain": [
       "         Global_active_power  Global_reactive_power  Voltage  Global_intensity\n",
       "1729036                1.310                  0.000   242.09               5.4\n",
       "901799                 0.540                  0.052   244.65               2.2\n",
       "94078                  2.300                  0.000   239.63               9.6\n",
       "852519                 0.432                  0.110   238.69               2.0\n",
       "1543028                0.256                  0.000   244.46               1.2"
      ]
     },
     "execution_count": 28,
     "metadata": {},
     "output_type": "execute_result"
    }
   ],
   "source": [
    "x_train.head()"
   ]
  },
  {
   "cell_type": "code",
   "execution_count": 29,
   "id": "f2299e68",
   "metadata": {},
   "outputs": [
    {
     "data": {
      "text/plain": [
       "1729036    19.0\n",
       "901799      1.0\n",
       "94078       0.0\n",
       "852519      3.0\n",
       "1543028     1.0\n",
       "Name: Sub_metering, dtype: float64"
      ]
     },
     "execution_count": 29,
     "metadata": {},
     "output_type": "execute_result"
    }
   ],
   "source": [
    "y_train.head()"
   ]
  },
  {
   "cell_type": "code",
   "execution_count": 30,
   "id": "137387a9",
   "metadata": {},
   "outputs": [],
   "source": [
    "# importing the DT Regressor\n",
    "\n",
    "from sklearn.tree import DecisionTreeRegressor\n",
    "\n",
    "model = DecisionTreeRegressor()"
   ]
  },
  {
   "cell_type": "code",
   "execution_count": 31,
   "id": "1b23efda",
   "metadata": {},
   "outputs": [
    {
     "data": {
      "text/plain": [
       "DecisionTreeRegressor()"
      ]
     },
     "execution_count": 31,
     "metadata": {},
     "output_type": "execute_result"
    }
   ],
   "source": [
    "model.fit(x_train,y_train)"
   ]
  },
  {
   "cell_type": "code",
   "execution_count": 32,
   "id": "be414c80",
   "metadata": {},
   "outputs": [
    {
     "data": {
      "text/plain": [
       "0.9999950736206531"
      ]
     },
     "execution_count": 32,
     "metadata": {},
     "output_type": "execute_result"
    }
   ],
   "source": [
    "# Accuracy for train data\n",
    "\n",
    "model.score(x_train, y_train) # if it is near to 1 then the model is overfitted"
   ]
  },
  {
   "cell_type": "code",
   "execution_count": 33,
   "id": "f8bbb88d",
   "metadata": {
    "scrolled": true
   },
   "outputs": [
    {
     "data": {
      "text/plain": [
       "[Text(0.5, 0.9166666666666666, 'X[0] <= 1.195\\nsquared_error = 162.617\\nsamples = 33079\\nvalue = 8.808'),\n",
       " Text(0.25, 0.75, 'X[0] <= 0.831\\nsquared_error = 5.496\\nsamples = 19432\\nvalue = 1.187'),\n",
       " Text(0.125, 0.5833333333333334, 'X[1] <= 0.137\\nsquared_error = 1.306\\nsamples = 17928\\nvalue = 0.833'),\n",
       " Text(0.0625, 0.4166666666666667, 'X[1] <= 0.071\\nsquared_error = 0.851\\nsamples = 12581\\nvalue = 0.609'),\n",
       " Text(0.03125, 0.25, 'X[3] <= 3.7\\nsquared_error = 0.468\\nsamples = 6517\\nvalue = 0.427'),\n",
       " Text(0.015625, 0.08333333333333333, '\\n  (...)  \\n'),\n",
       " Text(0.046875, 0.08333333333333333, '\\n  (...)  \\n'),\n",
       " Text(0.09375, 0.25, 'X[3] <= 2.9\\nsquared_error = 1.19\\nsamples = 6064\\nvalue = 0.804'),\n",
       " Text(0.078125, 0.08333333333333333, '\\n  (...)  \\n'),\n",
       " Text(0.109375, 0.08333333333333333, '\\n  (...)  \\n'),\n",
       " Text(0.1875, 0.4166666666666667, 'X[3] <= 3.1\\nsquared_error = 1.981\\nsamples = 5347\\nvalue = 1.36'),\n",
       " Text(0.15625, 0.25, 'X[1] <= 0.233\\nsquared_error = 1.144\\nsamples = 4988\\nvalue = 1.246'),\n",
       " Text(0.140625, 0.08333333333333333, '\\n  (...)  \\n'),\n",
       " Text(0.171875, 0.08333333333333333, '\\n  (...)  \\n'),\n",
       " Text(0.21875, 0.25, 'X[1] <= 0.139\\nsquared_error = 10.911\\nsamples = 359\\nvalue = 2.95'),\n",
       " Text(0.203125, 0.08333333333333333, '\\n  (...)  \\n'),\n",
       " Text(0.234375, 0.08333333333333333, '\\n  (...)  \\n'),\n",
       " Text(0.375, 0.5833333333333334, 'X[1] <= 0.245\\nsquared_error = 36.154\\nsamples = 1504\\nvalue = 5.404'),\n",
       " Text(0.3125, 0.4166666666666667, 'X[2] <= 234.615\\nsquared_error = 35.336\\nsamples = 1065\\nvalue = 4.322'),\n",
       " Text(0.28125, 0.25, 'X[3] <= 4.5\\nsquared_error = 36.964\\nsamples = 67\\nvalue = 13.448'),\n",
       " Text(0.265625, 0.08333333333333333, '\\n  (...)  \\n'),\n",
       " Text(0.296875, 0.08333333333333333, '\\n  (...)  \\n'),\n",
       " Text(0.34375, 0.25, 'X[3] <= 4.7\\nsquared_error = 29.26\\nsamples = 998\\nvalue = 3.709'),\n",
       " Text(0.328125, 0.08333333333333333, '\\n  (...)  \\n'),\n",
       " Text(0.359375, 0.08333333333333333, '\\n  (...)  \\n'),\n",
       " Text(0.4375, 0.4166666666666667, 'X[2] <= 244.9\\nsquared_error = 28.407\\nsamples = 439\\nvalue = 8.03'),\n",
       " Text(0.40625, 0.25, 'X[2] <= 237.345\\nsquared_error = 27.646\\nsamples = 416\\nvalue = 8.296'),\n",
       " Text(0.390625, 0.08333333333333333, '\\n  (...)  \\n'),\n",
       " Text(0.421875, 0.08333333333333333, '\\n  (...)  \\n'),\n",
       " Text(0.46875, 0.25, 'X[2] <= 247.51\\nsquared_error = 17.735\\nsamples = 23\\nvalue = 3.217'),\n",
       " Text(0.453125, 0.08333333333333333, '\\n  (...)  \\n'),\n",
       " Text(0.484375, 0.08333333333333333, '\\n  (...)  \\n'),\n",
       " Text(0.75, 0.75, 'X[3] <= 14.5\\nsquared_error = 185.882\\nsamples = 13647\\nvalue = 19.66'),\n",
       " Text(0.625, 0.5833333333333334, 'X[3] <= 10.7\\nsquared_error = 70.092\\nsamples = 12228\\nvalue = 16.654'),\n",
       " Text(0.5625, 0.4166666666666667, 'X[0] <= 1.281\\nsquared_error = 54.223\\nsamples = 10610\\nvalue = 15.747'),\n",
       " Text(0.53125, 0.25, 'X[1] <= 0.121\\nsquared_error = 58.935\\nsamples = 740\\nvalue = 12.742'),\n",
       " Text(0.515625, 0.08333333333333333, '\\n  (...)  \\n'),\n",
       " Text(0.546875, 0.08333333333333333, '\\n  (...)  \\n'),\n",
       " Text(0.59375, 0.25, 'X[1] <= 0.551\\nsquared_error = 53.141\\nsamples = 9870\\nvalue = 15.973'),\n",
       " Text(0.578125, 0.08333333333333333, '\\n  (...)  \\n'),\n",
       " Text(0.609375, 0.08333333333333333, '\\n  (...)  \\n'),\n",
       " Text(0.6875, 0.4166666666666667, 'X[3] <= 12.9\\nsquared_error = 133.375\\nsamples = 1618\\nvalue = 22.603'),\n",
       " Text(0.65625, 0.25, 'X[2] <= 237.495\\nsquared_error = 115.013\\nsamples = 1094\\nvalue = 21.47'),\n",
       " Text(0.640625, 0.08333333333333333, '\\n  (...)  \\n'),\n",
       " Text(0.671875, 0.08333333333333333, '\\n  (...)  \\n'),\n",
       " Text(0.71875, 0.25, 'X[0] <= 3.081\\nsquared_error = 163.44\\nsamples = 524\\nvalue = 24.968'),\n",
       " Text(0.703125, 0.08333333333333333, '\\n  (...)  \\n'),\n",
       " Text(0.734375, 0.08333333333333333, '\\n  (...)  \\n'),\n",
       " Text(0.875, 0.5833333333333334, 'X[3] <= 23.1\\nsquared_error = 435.195\\nsamples = 1419\\nvalue = 45.557'),\n",
       " Text(0.8125, 0.4166666666666667, 'X[0] <= 4.669\\nsquared_error = 318.398\\nsamples = 1237\\nvalue = 41.865'),\n",
       " Text(0.78125, 0.25, 'X[0] <= 3.613\\nsquared_error = 307.045\\nsamples = 1044\\nvalue = 39.933'),\n",
       " Text(0.765625, 0.08333333333333333, '\\n  (...)  \\n'),\n",
       " Text(0.796875, 0.08333333333333333, '\\n  (...)  \\n'),\n",
       " Text(0.84375, 0.25, 'X[2] <= 234.15\\nsquared_error = 250.392\\nsamples = 193\\nvalue = 52.316'),\n",
       " Text(0.828125, 0.08333333333333333, '\\n  (...)  \\n'),\n",
       " Text(0.859375, 0.08333333333333333, '\\n  (...)  \\n'),\n",
       " Text(0.9375, 0.4166666666666667, 'X[3] <= 32.9\\nsquared_error = 506.81\\nsamples = 182\\nvalue = 70.648'),\n",
       " Text(0.90625, 0.25, 'X[3] <= 31.9\\nsquared_error = 465.428\\nsamples = 167\\nvalue = 68.802'),\n",
       " Text(0.890625, 0.08333333333333333, '\\n  (...)  \\n'),\n",
       " Text(0.921875, 0.08333333333333333, '\\n  (...)  \\n'),\n",
       " Text(0.96875, 0.25, 'X[2] <= 233.25\\nsquared_error = 507.227\\nsamples = 15\\nvalue = 91.2'),\n",
       " Text(0.953125, 0.08333333333333333, '\\n  (...)  \\n'),\n",
       " Text(0.984375, 0.08333333333333333, '\\n  (...)  \\n')]"
      ]
     },
     "execution_count": 33,
     "metadata": {},
     "output_type": "execute_result"
    },
    {
     "data": {
      "image/png": "[encoded data removed]",
      "text/plain": [
       "<Figure size 1800x1080 with 1 Axes>"
      ]
     },
     "metadata": {
      "needs_background": "light"
     },
     "output_type": "display_data"
    }
   ],
   "source": [
    "from sklearn import tree\n",
    "import matplotlib.pyplot as plt\n",
    "fig = plt.figure(figsize=(25,15))\n",
    "tree.plot_tree(model, max_depth=4, filled=True,fontsize=5)"
   ]
  },
  {
   "cell_type": "code",
   "execution_count": 34,
   "id": "e25e9216",
   "metadata": {},
   "outputs": [],
   "source": [
    "y_pred = model.predict(x_test)"
   ]
  },
  {
   "cell_type": "code",
   "execution_count": 35,
   "id": "0d4413e4",
   "metadata": {},
   "outputs": [
    {
     "data": {
      "text/plain": [
       "0.5652806558234678"
      ]
     },
     "execution_count": 35,
     "metadata": {},
     "output_type": "execute_result"
    }
   ],
   "source": [
    "# for regression checing for the accuracy\n",
    "\n",
    "from sklearn.metrics import r2_score\n",
    "\n",
    "score = r2_score(y_test,y_pred)\n",
    "score"
   ]
  },
  {
   "cell_type": "code",
   "execution_count": 36,
   "id": "d093a3ad",
   "metadata": {},
   "outputs": [
    {
     "data": {
      "text/plain": [
       "0.5651738976348193"
      ]
     },
     "execution_count": 36,
     "metadata": {},
     "output_type": "execute_result"
    }
   ],
   "source": [
    "adjusted_R_square = 1 - (1 - score) * (len(y_test) - 1) / (len(y_test) - x_test.shape[1] - 1)\n",
    "adjusted_R_square"
   ]
  },
  {
   "cell_type": "code",
   "execution_count": 43,
   "id": "21ede19e",
   "metadata": {},
   "outputs": [],
   "source": [
    "# for better perfromance of model we are doing hyperparameter tuning using gridsearchcv \n",
    "\n",
    "grid_param = {\n",
    "    'criterion' : ['squared_error'],\n",
    "    'max_depth' : range(1,6),\n",
    "    'min_samples_leaf' : range(1,8),\n",
    "    'min_samples_split' : range(2,8),\n",
    "    'splitter' : ['best','random']\n",
    " }"
   ]
  },
  {
   "cell_type": "code",
   "execution_count": 44,
   "id": "e0f90911",
   "metadata": {},
   "outputs": [],
   "source": [
    "from sklearn.model_selection import GridSearchCV\n",
    "\n",
    "grid_search = GridSearchCV(estimator = model, param_grid = grid_param, cv=5)"
   ]
  },
  {
   "cell_type": "code",
   "execution_count": 45,
   "id": "f295e09a",
   "metadata": {},
   "outputs": [
    {
     "data": {
      "text/plain": [
       "GridSearchCV(cv=5, estimator=DecisionTreeRegressor(),\n",
       "             param_grid={'criterion': ['squared_error'],\n",
       "                         'max_depth': range(1, 6),\n",
       "                         'min_samples_leaf': range(1, 8),\n",
       "                         'min_samples_split': range(2, 8),\n",
       "                         'splitter': ['best', 'random']})"
      ]
     },
     "execution_count": 45,
     "metadata": {},
     "output_type": "execute_result"
    }
   ],
   "source": [
    "grid_search.fit(x_train,y_train)"
   ]
  },
  {
   "cell_type": "code",
   "execution_count": 46,
   "id": "3e4464e6",
   "metadata": {},
   "outputs": [
    {
     "data": {
      "text/plain": [
       "{'criterion': 'squared_error',\n",
       " 'max_depth': 5,\n",
       " 'min_samples_leaf': 4,\n",
       " 'min_samples_split': 2,\n",
       " 'splitter': 'best'}"
      ]
     },
     "execution_count": 46,
     "metadata": {},
     "output_type": "execute_result"
    }
   ],
   "source": [
    "grid_search.best_params_"
   ]
  },
  {
   "cell_type": "code",
   "execution_count": 47,
   "id": "ddcbdb3b",
   "metadata": {},
   "outputs": [],
   "source": [
    "# taking the best parameter\n",
    "\n",
    "model_with_best_param = DecisionTreeRegressor(criterion='squared_error',\n",
    " max_depth = 5,\n",
    " min_samples_leaf = 4,\n",
    " min_samples_split = 2,\n",
    " splitter = 'best' )"
   ]
  },
  {
   "cell_type": "code",
   "execution_count": 48,
   "id": "33b8eaec",
   "metadata": {},
   "outputs": [
    {
     "data": {
      "text/plain": [
       "DecisionTreeRegressor(max_depth=5, min_samples_leaf=4)"
      ]
     },
     "execution_count": 48,
     "metadata": {},
     "output_type": "execute_result"
    }
   ],
   "source": [
    "model_with_best_param.fit(x_train,y_train)"
   ]
  },
  {
   "cell_type": "code",
   "execution_count": 49,
   "id": "d81651b8",
   "metadata": {},
   "outputs": [],
   "source": [
    "y_predict2 = model_with_best_param.predict(x_test)"
   ]
  },
  {
   "cell_type": "code",
   "execution_count": 50,
   "id": "1738deab",
   "metadata": {},
   "outputs": [
    {
     "data": {
      "text/plain": [
       "0.5652806558234678"
      ]
     },
     "execution_count": 50,
     "metadata": {},
     "output_type": "execute_result"
    }
   ],
   "source": [
    "# accuracy after the hyper \n",
    "from sklearn.metrics import r2_score\n",
    "\n",
    "score = r2_score(y_test,y_pred)\n",
    "score"
   ]
  },
  {
   "cell_type": "code",
   "execution_count": null,
   "id": "b3471be5",
   "metadata": {},
   "outputs": [],
   "source": [
    "Conclusion by using hyperparameter also getting the same accuaray"
   ]
  }
 ],
 "metadata": {
  "kernelspec": {
   "display_name": "Python 3",
   "language": "python",
   "name": "python3"
  },
  "language_info": {
   "codemirror_mode": {
    "name": "ipython",
    "version": 3
   },
   "file_extension": ".py",
   "mimetype": "text/x-python",
   "name": "python",
   "nbconvert_exporter": "python",
   "pygments_lexer": "ipython3",
   "version": "3.7.3"
  }
 },
 "nbformat": 4,
 "nbformat_minor": 5
}
